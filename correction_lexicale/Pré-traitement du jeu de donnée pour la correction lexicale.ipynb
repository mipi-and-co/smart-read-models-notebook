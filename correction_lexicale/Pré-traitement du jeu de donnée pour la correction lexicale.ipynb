{
 "cells": [
  {
   "cell_type": "markdown",
   "id": "848f69b6",
   "metadata": {},
   "source": [
    "# Construction des dictionnaires pour la Correction Lexicale\n",
    "\n",
    "Dans ce notebook sera présenté le pré-traitement du jeu de donnée [Lexique3](https://chrplr.github.io/openlexicon/datasets-info/) afin d'obtenir des données utilisable par notre algorithme de correction lexicale.\n",
    "\n",
    "Ce pré-traitement de donnée aura plusieurs objectif :\n",
    "- Nettoyer le jeu de données de toutes ses impuretés (doublons, accents, etc...)\n",
    "- Augmenter la vitesse de notre algo de correction lexicale en divisant le dataset\n",
    "\n",
    "**Pour exécuter le notebook, mettre le dossier xlsx de Lexique3 dans le dossier dataset en le nommant liste_de_mots.xlsx**"
   ]
  },
  {
   "cell_type": "markdown",
   "id": "818c8242",
   "metadata": {},
   "source": [
    "## Importation des ressources nécessaires\n",
    "\n",
    "### Importation des dépandances."
   ]
  },
  {
   "cell_type": "code",
   "execution_count": 1,
   "id": "2e0c01fa",
   "metadata": {},
   "outputs": [],
   "source": [
    "from pathlib import Path\n",
    "from unidecode import unidecode\n",
    "import pandas as pd\n",
    "import matplotlib.pyplot as plt"
   ]
  },
  {
   "cell_type": "markdown",
   "id": "39af46e6",
   "metadata": {},
   "source": [
    "### Importation du dataset en format excel\n"
   ]
  },
  {
   "cell_type": "code",
   "execution_count": 2,
   "id": "6ab5c45e",
   "metadata": {},
   "outputs": [
    {
     "name": "stdout",
     "output_type": "stream",
     "text": [
      "         ortho       phon        lemme cgram genre nombre freqlemfilms2  \\\n",
      "0            a          a            a   NOM     m    NaN         81.36   \n",
      "1            a          a        avoir   AUX   NaN    NaN      18559.22   \n",
      "2            a          a        avoir   VER   NaN    NaN       13572.4   \n",
      "3    a capella    akapEla    a capella   ADV   NaN    NaN          0.04   \n",
      "4   a cappella    akapEla   a cappella   ADV   NaN    NaN          0.04   \n",
      "5  a contrario  ak§tRaRjo  a contrario   ADV   NaN    NaN             0   \n",
      "6   a fortiori  afORsjoRi   a fortiori   ADV   NaN    NaN          0.04   \n",
      "7     a giorno   adZjORno     a giorno   ADV   NaN    NaN             0   \n",
      "8       a jeun        aZ1       à jeun   ADV   NaN    NaN          1.45   \n",
      "9   a l'instar    al5staR   a l'instar   PRE   NaN    NaN          0.26   \n",
      "\n",
      "  freqlemlivres freqfilms2 freqlivres  ...     orthrenv   phonrenv  \\\n",
      "0         58.65      81.36      58.65  ...            a          a   \n",
      "1      12800.81    6350.91    2926.69  ...            a          a   \n",
      "2       6426.49    5498.34    1669.39  ...            a          a   \n",
      "3          0.07       0.04       0.07  ...    allepac a    alEpaka   \n",
      "4          0.07       0.04       0.07  ...   alleppac a    alEpaka   \n",
      "5          0.27          0       0.27  ...  oirartnoc a  ojRaRt§ka   \n",
      "6          0.88       0.04       0.88  ...   iroitrof a  iRojsROfa   \n",
      "7          0.27          0       0.27  ...     onroig a   onROjZda   \n",
      "8          3.85       0.18          0  ...       nuej a        1Za   \n",
      "9             0       0.26          0  ...   ratsni'l a    Rats5la   \n",
      "\n",
      "       orthosyll   cgramortho deflem defobs old20 pld20    morphoder nbmorph  \n",
      "0              a  NOM,AUX,VER    NaN    NaN     1     1            a       1  \n",
      "1              a  NOM,AUX,VER    NaN    NaN     1     1        avoir       1  \n",
      "2              a  NOM,AUX,VER     93     16     1     1        avoir       1  \n",
      "3    a ca-pel-la          ADV    NaN    NaN  3.85  2.85    a-capella       2  \n",
      "4   a cap-pel-la          ADV    NaN    NaN   4.6  2.85   a-cappella       2  \n",
      "5  a con-tra-rio          ADV    NaN    NaN   4.3   3.3  a-contrario       2  \n",
      "6   a for-tio-ri          ADV    NaN    NaN   4.4  3.95   a-fortiori       2  \n",
      "7      a gior-no          ADV    NaN    NaN  3.85  3.85     a-giorno       2  \n",
      "8         a jeun          ADV    NaN    NaN   2.9   1.6       à-jeun       2  \n",
      "9    a l'ins-tar          PRE    NaN    NaN   4.8     3   a-l'instar       2  \n",
      "\n",
      "[10 rows x 35 columns]\n"
     ]
    }
   ],
   "source": [
    "data = pd.read_excel(io=\"../dataset/liste_de_mots.xlsx\", dtype=str)\n",
    "print(data.head(10))"
   ]
  },
  {
   "cell_type": "markdown",
   "id": "be88d4c9",
   "metadata": {},
   "source": [
    "## Pré-traitement des données pour la création du dataset"
   ]
  },
  {
   "cell_type": "markdown",
   "id": "962f91b0",
   "metadata": {},
   "source": [
    "### Organisation du dataset\n",
    "\n",
    "Récupération des colonnes utiles, dans notre cas nous avons juste besoin de la colonne **ortho** pour **orthographe** des mots."
   ]
  },
  {
   "cell_type": "code",
   "execution_count": 3,
   "id": "4ee2e9ee",
   "metadata": {},
   "outputs": [
    {
     "name": "stdout",
     "output_type": "stream",
     "text": [
      "           ortho\n",
      "0              a\n",
      "3      a capella\n",
      "4     a cappella\n",
      "5    a contrario\n",
      "6     a fortiori\n",
      "7       a giorno\n",
      "8         a jeun\n",
      "9     a l'instar\n",
      "10  a posteriori\n",
      "11      a priori\n"
     ]
    }
   ],
   "source": [
    "dataset =  pd.DataFrame(data[\"ortho\"], dtype=str)\n",
    "dataset.drop_duplicates(keep = 'first', inplace=True) # Supression des doublons\n",
    "print(dataset.head(10))"
   ]
  },
  {
   "cell_type": "markdown",
   "id": "16d92957",
   "metadata": {},
   "source": [
    "### Nettoyage du dataset"
   ]
  },
  {
   "cell_type": "markdown",
   "id": "c18ff416",
   "metadata": {},
   "source": [
    "#### Suppression des accents et autres caractères français compliquant l'utilisation du jeu de données"
   ]
  },
  {
   "cell_type": "code",
   "execution_count": 4,
   "id": "eb811230",
   "metadata": {},
   "outputs": [
    {
     "name": "stdout",
     "output_type": "stream",
     "text": [
      "Avant conversion\n",
      "          ortho\n",
      "142685  ôtèrent\n",
      "142686      ôté\n",
      "142688     ôtée\n",
      "142690    ôtées\n",
      "142692     ôtés\n"
     ]
    }
   ],
   "source": [
    "print(\"Avant conversion\")\n",
    "print(dataset.tail())"
   ]
  },
  {
   "cell_type": "markdown",
   "id": "0fc091d4",
   "metadata": {},
   "source": [
    "Opération de conversion des str avec accents en str sans accents"
   ]
  },
  {
   "cell_type": "code",
   "execution_count": 5,
   "id": "c53765c0",
   "metadata": {},
   "outputs": [
    {
     "name": "stdout",
     "output_type": "stream",
     "text": [
      "Après conversion\n",
      "          ortho\n",
      "142685  oterent\n",
      "142686      ote\n",
      "142688     otee\n",
      "142690    otees\n",
      "142692     otes\n"
     ]
    }
   ],
   "source": [
    "dataset = dataset.applymap(unidecode)\n",
    "dataset.head(10)\n",
    "\n",
    "print(\"Après conversion\")\n",
    "print(dataset.tail())"
   ]
  },
  {
   "cell_type": "markdown",
   "id": "33cb44ec",
   "metadata": {},
   "source": [
    "### Triage le dataset\n",
    "\n",
    "Le tri du dataset par nombre de lettre aura pour but de séparer le dataset en sous fichier pour ainsi augmenter la vitesse de calcule de \"la distance de Levensthein\" en sélectionnant ces fichers en fonctions du mot demandé"
   ]
  },
  {
   "cell_type": "markdown",
   "id": "8edd82be",
   "metadata": {},
   "source": [
    "#### Analyse de la répartition des mots par nombre de caractères dans le dataset\n",
    "\n",
    "Pour cela, on crée une nouvelle colonne nb_caractères qui contiendra le nombre de caractères contenue dans chaque mots en fonction de la ligne de celui-ci"
   ]
  },
  {
   "cell_type": "code",
   "execution_count": 6,
   "id": "96b6e2a9",
   "metadata": {},
   "outputs": [
    {
     "data": {
      "text/html": [
       "<div>\n",
       "<style scoped>\n",
       "    .dataframe tbody tr th:only-of-type {\n",
       "        vertical-align: middle;\n",
       "    }\n",
       "\n",
       "    .dataframe tbody tr th {\n",
       "        vertical-align: top;\n",
       "    }\n",
       "\n",
       "    .dataframe thead th {\n",
       "        text-align: right;\n",
       "    }\n",
       "</style>\n",
       "<table border=\"1\" class=\"dataframe\">\n",
       "  <thead>\n",
       "    <tr style=\"text-align: right;\">\n",
       "      <th></th>\n",
       "      <th>ortho</th>\n",
       "    </tr>\n",
       "  </thead>\n",
       "  <tbody>\n",
       "    <tr>\n",
       "      <th>0</th>\n",
       "      <td>1</td>\n",
       "    </tr>\n",
       "    <tr>\n",
       "      <th>3</th>\n",
       "      <td>9</td>\n",
       "    </tr>\n",
       "    <tr>\n",
       "      <th>4</th>\n",
       "      <td>10</td>\n",
       "    </tr>\n",
       "    <tr>\n",
       "      <th>5</th>\n",
       "      <td>11</td>\n",
       "    </tr>\n",
       "    <tr>\n",
       "      <th>6</th>\n",
       "      <td>10</td>\n",
       "    </tr>\n",
       "  </tbody>\n",
       "</table>\n",
       "</div>"
      ],
      "text/plain": [
       "   ortho\n",
       "0      1\n",
       "3      9\n",
       "4     10\n",
       "5     11\n",
       "6     10"
      ]
     },
     "execution_count": 6,
     "metadata": {},
     "output_type": "execute_result"
    }
   ],
   "source": [
    "dataset_nb_caracteres = dataset.applymap(len)\n",
    "dataset_nb_caracteres.head()"
   ]
  },
  {
   "cell_type": "markdown",
   "id": "4e35648e",
   "metadata": {},
   "source": [
    "Création du nouveau dataframe \"dataset_3\" contenant comme colonne:\n",
    "-mot\n",
    "-nombre de caractères"
   ]
  },
  {
   "cell_type": "code",
   "execution_count": 7,
   "id": "cfd7a6f1",
   "metadata": {},
   "outputs": [
    {
     "data": {
      "text/html": [
       "<div>\n",
       "<style scoped>\n",
       "    .dataframe tbody tr th:only-of-type {\n",
       "        vertical-align: middle;\n",
       "    }\n",
       "\n",
       "    .dataframe tbody tr th {\n",
       "        vertical-align: top;\n",
       "    }\n",
       "\n",
       "    .dataframe thead th {\n",
       "        text-align: right;\n",
       "    }\n",
       "</style>\n",
       "<table border=\"1\" class=\"dataframe\">\n",
       "  <thead>\n",
       "    <tr style=\"text-align: right;\">\n",
       "      <th></th>\n",
       "      <th>mot</th>\n",
       "      <th>nb_caracteres</th>\n",
       "    </tr>\n",
       "  </thead>\n",
       "  <tbody>\n",
       "    <tr>\n",
       "      <th>0</th>\n",
       "      <td>a</td>\n",
       "      <td>1</td>\n",
       "    </tr>\n",
       "    <tr>\n",
       "      <th>3</th>\n",
       "      <td>a capella</td>\n",
       "      <td>9</td>\n",
       "    </tr>\n",
       "    <tr>\n",
       "      <th>4</th>\n",
       "      <td>a cappella</td>\n",
       "      <td>10</td>\n",
       "    </tr>\n",
       "    <tr>\n",
       "      <th>5</th>\n",
       "      <td>a contrario</td>\n",
       "      <td>11</td>\n",
       "    </tr>\n",
       "    <tr>\n",
       "      <th>6</th>\n",
       "      <td>a fortiori</td>\n",
       "      <td>10</td>\n",
       "    </tr>\n",
       "  </tbody>\n",
       "</table>\n",
       "</div>"
      ],
      "text/plain": [
       "           mot  nb_caracteres\n",
       "0            a              1\n",
       "3    a capella              9\n",
       "4   a cappella             10\n",
       "5  a contrario             11\n",
       "6   a fortiori             10"
      ]
     },
     "execution_count": 7,
     "metadata": {},
     "output_type": "execute_result"
    }
   ],
   "source": [
    "dataset_2 = pd.DataFrame({\"mot\": dataset[\"ortho\"], \"nb_caracteres\": dataset_nb_caracteres[\"ortho\"]})\n",
    "dataset_2.head()"
   ]
  },
  {
   "cell_type": "markdown",
   "id": "2eca9e19",
   "metadata": {},
   "source": [
    "Affichage de l'histogramme de la répartition du nombre de mots en fonction du nombre de caractère."
   ]
  },
  {
   "cell_type": "code",
   "execution_count": 8,
   "id": "1f4bcd36",
   "metadata": {},
   "outputs": [
    {
     "data": {
      "text/plain": [
       "<AxesSubplot: >"
      ]
     },
     "execution_count": 8,
     "metadata": {},
     "output_type": "execute_result"
    },
    {
     "data": {
      "image/png": "[encoded data removed]",
      "text/plain": [
       "<Figure size 640x480 with 1 Axes>"
      ]
     },
     "metadata": {},
     "output_type": "display_data"
    }
   ],
   "source": [
    "dataset_2[\"nb_caracteres\"].value_counts().plot(kind=\"bar\")"
   ]
  },
  {
   "cell_type": "markdown",
   "id": "9deabd3c",
   "metadata": {},
   "source": [
    "#### Regroupement des mots par nombre de caractère.\n",
    "\n",
    "On regroupe les mots par nombre de caractère afin d'obtenir une répartition plus uniformes des ensembles de mots"
   ]
  },
  {
   "cell_type": "code",
   "execution_count": 9,
   "id": "254ed3c0",
   "metadata": {},
   "outputs": [
    {
     "data": {
      "text/plain": [
       "0         a\n",
       "12104     b\n",
       "19237     c\n",
       "34926     d\n",
       "46861     e\n",
       "54699     f\n",
       "60589     g\n",
       "67816     i\n",
       "73954     j\n",
       "75126     k\n",
       "75459     l\n",
       "78755     m\n",
       "86465     n\n",
       "88628     o\n",
       "103794    q\n",
       "117200    s\n",
       "126652    t\n",
       "133411    u\n",
       "133900    v\n",
       "137226    w\n",
       "137326    x\n",
       "137349    y\n",
       "137441    z\n",
       "137701    a\n",
       "137798    e\n",
       "142663    o\n",
       "Name: mot, dtype: object"
      ]
     },
     "execution_count": 9,
     "metadata": {},
     "output_type": "execute_result"
    }
   ],
   "source": [
    "dict_dataset_mots_par_nb_carac = {}\n",
    "for i in range(1, 26):\n",
    "    df = dataset_2 # Varaible intermédiaire pour simplifier l'écriture de la ligne suivante\n",
    "    dict_dataset_mots_par_nb_carac[i] = df[df[\"nb_caracteres\"] == i][\"mot\"] # On sélectionne uniquement la colonne des mots; plus besoin de la colonne du nombre de caractères\n",
    "\n",
    "dict_dataset_mots_par_nb_carac[1]"
   ]
  },
  {
   "cell_type": "markdown",
   "id": "bd53c966",
   "metadata": {},
   "source": [
    "#### Regroupement des catégories où il y a peu de mots ensemble\n",
    "\n",
    "Dans notre cas on va créer une nouvelle catégorie qui va reprendre tous les mots ayant les nombres de caractères ci-dessous:\n",
    "**(14, 4, 15, 3, 16, 17, 2, 18, 19, 1, 20, 21, 22, 23, 24, 25)**."
   ]
  },
  {
   "cell_type": "code",
   "execution_count": 10,
   "id": "52267d05",
   "metadata": {},
   "outputs": [
    {
     "data": {
      "text/html": [
       "<div>\n",
       "<style scoped>\n",
       "    .dataframe tbody tr th:only-of-type {\n",
       "        vertical-align: middle;\n",
       "    }\n",
       "\n",
       "    .dataframe tbody tr th {\n",
       "        vertical-align: top;\n",
       "    }\n",
       "\n",
       "    .dataframe thead th {\n",
       "        text-align: right;\n",
       "    }\n",
       "</style>\n",
       "<table border=\"1\" class=\"dataframe\">\n",
       "  <thead>\n",
       "    <tr style=\"text-align: right;\">\n",
       "      <th></th>\n",
       "      <th>mot</th>\n",
       "    </tr>\n",
       "  </thead>\n",
       "  <tbody>\n",
       "    <tr>\n",
       "      <th>27</th>\n",
       "      <td>abaisse-langue</td>\n",
       "    </tr>\n",
       "    <tr>\n",
       "      <th>69</th>\n",
       "      <td>abandonnerions</td>\n",
       "    </tr>\n",
       "    <tr>\n",
       "      <th>99</th>\n",
       "      <td>abasourdissant</td>\n",
       "    </tr>\n",
       "    <tr>\n",
       "      <th>270</th>\n",
       "      <td>abolitionniste</td>\n",
       "    </tr>\n",
       "    <tr>\n",
       "      <th>275</th>\n",
       "      <td>abominablement</td>\n",
       "    </tr>\n",
       "    <tr>\n",
       "      <th>...</th>\n",
       "      <td>...</td>\n",
       "    </tr>\n",
       "    <tr>\n",
       "      <th>90750</th>\n",
       "      <td>oto-rhino-laryngologique</td>\n",
       "    </tr>\n",
       "    <tr>\n",
       "      <th>90751</th>\n",
       "      <td>oto-rhino-laryngologiste</td>\n",
       "    </tr>\n",
       "    <tr>\n",
       "      <th>120238</th>\n",
       "      <td>sic transit gloria mundi</td>\n",
       "    </tr>\n",
       "    <tr>\n",
       "      <th>123395</th>\n",
       "      <td>sterno-cleido-mastoidien</td>\n",
       "    </tr>\n",
       "    <tr>\n",
       "      <th>6718</th>\n",
       "      <td>anticonstitutionnellement</td>\n",
       "    </tr>\n",
       "  </tbody>\n",
       "</table>\n",
       "<p>8497 rows × 1 columns</p>\n",
       "</div>"
      ],
      "text/plain": [
       "                              mot\n",
       "27                 abaisse-langue\n",
       "69                 abandonnerions\n",
       "99                 abasourdissant\n",
       "270                abolitionniste\n",
       "275                abominablement\n",
       "...                           ...\n",
       "90750    oto-rhino-laryngologique\n",
       "90751    oto-rhino-laryngologiste\n",
       "120238   sic transit gloria mundi\n",
       "123395   sterno-cleido-mastoidien\n",
       "6718    anticonstitutionnellement\n",
       "\n",
       "[8497 rows x 1 columns]"
      ]
     },
     "execution_count": 10,
     "metadata": {},
     "output_type": "execute_result"
    }
   ],
   "source": [
    "groupe_autre = [14, 4, 15, 3, 16, 17, 2, 18, 19, 1, 20, 21, 22, 23, 24, 25]\n",
    "dataset_autre = pd.DataFrame(dtype=str)\n",
    "\n",
    "for i in groupe_autre:\n",
    "    dataset_autre = pd.concat((dataset_autre, dict_dataset_mots_par_nb_carac[i]))\n",
    "dataset_autre.columns = [\"mot\"]\n",
    "dataset_autre"
   ]
  },
  {
   "cell_type": "markdown",
   "id": "02531747",
   "metadata": {},
   "source": [
    "##### Création du dataset final dans un dictionnaire"
   ]
  },
  {
   "cell_type": "code",
   "execution_count": 11,
   "id": "e4797eb6",
   "metadata": {},
   "outputs": [],
   "source": [
    "dict_final_dataset = {}\n",
    "dict_final_dataset[\"autre\"] = dataset_autre\n",
    "\n",
    "for i in range(1, 26):\n",
    "    if i not in groupe_autre:\n",
    "        dict_final_dataset[i] = dict_dataset_mots_par_nb_carac[i]"
   ]
  },
  {
   "cell_type": "markdown",
   "id": "967987a8",
   "metadata": {},
   "source": [
    "##### Affichage de la répartition des ensembles de  mots"
   ]
  },
  {
   "cell_type": "code",
   "execution_count": 12,
   "id": "106b8c6d",
   "metadata": {},
   "outputs": [
    {
     "name": "stdout",
     "output_type": "stream",
     "text": [
      "{'autre': 8497, 5: 5684, 6: 10956, 7: 16335, 8: 19981, 9: 20039, 10: 17300, 11: 13038, 12: 8653, 13: 5170}\n"
     ]
    },
    {
     "data": {
      "text/plain": [
       "([<matplotlib.axis.XTick at 0x7f24f4684cd0>,\n",
       "  <matplotlib.axis.XTick at 0x7f24f4684ca0>,\n",
       "  <matplotlib.axis.XTick at 0x7f24f4684910>,\n",
       "  <matplotlib.axis.XTick at 0x7f24f46be170>,\n",
       "  <matplotlib.axis.XTick at 0x7f24f46beb60>,\n",
       "  <matplotlib.axis.XTick at 0x7f24f46bf610>,\n",
       "  <matplotlib.axis.XTick at 0x7f24f46bfd60>,\n",
       "  <matplotlib.axis.XTick at 0x7f24f46f0bb0>,\n",
       "  <matplotlib.axis.XTick at 0x7f24f46be3b0>,\n",
       "  <matplotlib.axis.XTick at 0x7f24f46f15d0>],\n",
       " [Text(0, 0, 'autre'),\n",
       "  Text(1, 0, '5'),\n",
       "  Text(2, 0, '6'),\n",
       "  Text(3, 0, '7'),\n",
       "  Text(4, 0, '8'),\n",
       "  Text(5, 0, '9'),\n",
       "  Text(6, 0, '10'),\n",
       "  Text(7, 0, '11'),\n",
       "  Text(8, 0, '12'),\n",
       "  Text(9, 0, '13')])"
      ]
     },
     "execution_count": 12,
     "metadata": {},
     "output_type": "execute_result"
    },
    {
     "data": {
      "image/png": "[encoded data removed]",
      "text/plain": [
       "<Figure size 640x480 with 1 Axes>"
      ]
     },
     "metadata": {},
     "output_type": "display_data"
    }
   ],
   "source": [
    "dict_final_dataset_repartion_mots = {}\n",
    "\n",
    "for key, value in dict_final_dataset.items():\n",
    "    dict_final_dataset_repartion_mots[key] = len(value.index)\n",
    "\n",
    "print(dict_final_dataset_repartion_mots)\n",
    "plt.bar(range(len(dict_final_dataset_repartion_mots)), list(dict_final_dataset_repartion_mots.values()), align='center')\n",
    "plt.xticks(range(len(dict_final_dataset_repartion_mots)), list(dict_final_dataset_repartion_mots.keys()))"
   ]
  },
  {
   "cell_type": "markdown",
   "id": "b8b28b06",
   "metadata": {},
   "source": [
    "##### Sauvegarde du dataset sur le PC"
   ]
  },
  {
   "cell_type": "code",
   "execution_count": 13,
   "id": "af41ca2f",
   "metadata": {},
   "outputs": [],
   "source": [
    "SAVE_PATH = Path(\"../dataset/\")\n",
    "for key in dict_final_dataset.keys():\n",
    "    dict_final_dataset[key].to_csv(SAVE_PATH / f\"mots_{key}.csv\", index=False)"
   ]
  }
 ],
 "metadata": {
  "kernelspec": {
   "display_name": "Python 3 (ipykernel)",
   "language": "python",
   "name": "python3"
  },
  "language_info": {
   "codemirror_mode": {
    "name": "ipython",
    "version": 3
   },
   "file_extension": ".py",
   "mimetype": "text/x-python",
   "name": "python",
   "nbconvert_exporter": "python",
   "pygments_lexer": "ipython3",
   "version": "3.10.6"
  }
 },
 "nbformat": 4,
 "nbformat_minor": 5
}
